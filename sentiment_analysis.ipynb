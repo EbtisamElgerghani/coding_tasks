{
  "cells": [
    {
      "cell_type": "markdown",
      "metadata": {
        "id": "view-in-github",
        "colab_type": "text"
      },
      "source": [
        "<a href=\"https://colab.research.google.com/github/EbtisamElgerghani/coding_tasks/blob/main/sentiment_analysis.ipynb\" target=\"_parent\"><img src=\"https://colab.research.google.com/assets/colab-badge.svg\" alt=\"Open In Colab\"/></a>"
      ]
    },
    {
      "cell_type": "code",
      "execution_count": null,
      "id": "1d46cb9e-447b-4cf4-9a91-a7cc3f61ab0e",
      "metadata": {
        "id": "1d46cb9e-447b-4cf4-9a91-a7cc3f61ab0e"
      },
      "outputs": [],
      "source": [
        "#!python -m textblob.download_corpora"
      ]
    },
    {
      "cell_type": "code",
      "execution_count": null,
      "id": "69125ac4-f665-4b65-906c-4e5122f06401",
      "metadata": {
        "id": "69125ac4-f665-4b65-906c-4e5122f06401"
      },
      "outputs": [],
      "source": [
        "# Import necessary libraries\n",
        "import pandas as pd\n",
        "import spacy\n",
        "import en_core_web_sm\n",
        "import en_core_web_md\n",
        "from spacytextblob.spacytextblob import SpacyTextBlob"
      ]
    },
    {
      "cell_type": "code",
      "execution_count": null,
      "id": "7b344adf-f2f2-4fb3-9a39-9a6420255ae9",
      "metadata": {
        "id": "7b344adf-f2f2-4fb3-9a39-9a6420255ae9"
      },
      "outputs": [],
      "source": [
        "# Load the spaCy English model for sentiment and similarity analysis\n",
        "sm_nlp = spacy.load('en_core_web_sm')\n",
        "md_nlp = spacy.load('en_core_web_md')"
      ]
    },
    {
      "cell_type": "markdown",
      "id": "3d7755f5-9f16-486c-bd60-89e590c9f111",
      "metadata": {
        "id": "3d7755f5-9f16-486c-bd60-89e590c9f111"
      },
      "source": [
        "Load the spacy english model in **sm_nlp** and  **md_nlp**\n",
        "- **en_core_web_sm** a small English pipeline trained on written web text\n",
        "- **en_core_web_md** a medium-sized English model trained on written web text"
      ]
    },
    {
      "cell_type": "code",
      "execution_count": null,
      "id": "12e4ccb4-dcac-4118-b0e6-89efeba2bd68",
      "metadata": {
        "id": "12e4ccb4-dcac-4118-b0e6-89efeba2bd68",
        "outputId": "2c88cd93-9672-47f1-ec97-94c9288c79ae"
      },
      "outputs": [
        {
          "data": {
            "text/plain": [
              "'3.7.4'"
            ]
          },
          "execution_count": 70,
          "metadata": {},
          "output_type": "execute_result"
        }
      ],
      "source": [
        "# Version...\n",
        "spacy.__version__"
      ]
    },
    {
      "cell_type": "code",
      "execution_count": null,
      "id": "3ef5001f-e850-48f5-bf8d-be1ecd9e9ed6",
      "metadata": {
        "id": "3ef5001f-e850-48f5-bf8d-be1ecd9e9ed6",
        "outputId": "b64e8457-91c9-4ee4-cce3-fff7922a28c8"
      },
      "outputs": [
        {
          "data": {
            "text/plain": [
              "['tok2vec', 'tagger', 'parser', 'attribute_ruler', 'lemmatizer', 'ner']"
            ]
          },
          "execution_count": 71,
          "metadata": {},
          "output_type": "execute_result"
        }
      ],
      "source": [
        "# To get the components names!\n",
        "#sm_nlp.components\n",
        "#sm_nlp.pipeline\n",
        "#sm_nlp.component_names\n",
        "sm_nlp.pipe_names"
      ]
    },
    {
      "cell_type": "markdown",
      "id": "2a0e2343-1057-42e8-961f-eff4c3a5815f",
      "metadata": {
        "id": "2a0e2343-1057-42e8-961f-eff4c3a5815f"
      },
      "source": [
        "The components names of spacy pipeline are ['tok2vec', 'tagger', 'parser', 'senter', 'attribute_ruler', 'lemmatizer', 'ner']"
      ]
    },
    {
      "cell_type": "markdown",
      "id": "3cb969e6-6e76-4f12-9c4c-6f250cf82540",
      "metadata": {
        "id": "3cb969e6-6e76-4f12-9c4c-6f250cf82540"
      },
      "source": [
        "#### Using spacy textblob: Sentiment Analysis."
      ]
    },
    {
      "cell_type": "code",
      "execution_count": null,
      "id": "b61a1e61-60d9-4062-9b9a-a0e10053b4ff",
      "metadata": {
        "id": "b61a1e61-60d9-4062-9b9a-a0e10053b4ff",
        "outputId": "8b4ecde7-d626-4353-aa6d-cea5c7a4a2d7"
      },
      "outputs": [
        {
          "data": {
            "text/plain": [
              "<spacytextblob.spacytextblob.SpacyTextBlob at 0x21903227f50>"
            ]
          },
          "execution_count": 73,
          "metadata": {},
          "output_type": "execute_result"
        }
      ],
      "source": [
        "# Add SpacyTextBlob as a pipeline component for sentiment analysis features.\n",
        "sm_nlp.add_pipe('spacytextblob', last=True)"
      ]
    },
    {
      "cell_type": "markdown",
      "id": "9bf4a516-e330-449b-8b34-4f80ae05f03e",
      "metadata": {
        "id": "9bf4a516-e330-449b-8b34-4f80ae05f03e"
      },
      "source": [
        "After adding SpacyTextBlob as a pipeline component for sentiment analysis features apply the code for more visualization:\n",
        "\n",
        "**sm_nlp.pipe_names**\n",
        "- The components names of spacy pipeline are ['tok2vec', 'tagger', 'parser', 'senter', 'attribute_ruler', 'lemmatizer', 'ner', 'spacytextblob']"
      ]
    },
    {
      "cell_type": "code",
      "execution_count": null,
      "id": "f9c520b2-d7b1-4e2b-bc7a-7b9d89559475",
      "metadata": {
        "id": "f9c520b2-d7b1-4e2b-bc7a-7b9d89559475"
      },
      "outputs": [],
      "source": [
        "# Load the dataset into a pandas DataFrame\n",
        "dataframe = pd.read_csv('amazon_product_reviews.csv', low_memory=False)"
      ]
    },
    {
      "cell_type": "code",
      "execution_count": null,
      "id": "eda54f0a-e1b6-4712-ab4a-ee43feccf23a",
      "metadata": {
        "id": "eda54f0a-e1b6-4712-ab4a-ee43feccf23a",
        "outputId": "bae13207-131f-47d9-8bdc-239fe4dffeeb"
      },
      "outputs": [
        {
          "name": "stdout",
          "output_type": "stream",
          "text": [
            "<class 'pandas.core.frame.DataFrame'>\n",
            "RangeIndex: 34660 entries, 0 to 34659\n",
            "Data columns (total 21 columns):\n",
            " #   Column                Non-Null Count  Dtype  \n",
            "---  ------                --------------  -----  \n",
            " 0   id                    34660 non-null  object \n",
            " 1   name                  27900 non-null  object \n",
            " 2   asins                 34658 non-null  object \n",
            " 3   brand                 34660 non-null  object \n",
            " 4   categories            34660 non-null  object \n",
            " 5   keys                  34660 non-null  object \n",
            " 6   manufacturer          34660 non-null  object \n",
            " 7   reviews.date          34621 non-null  object \n",
            " 8   reviews.dateAdded     24039 non-null  object \n",
            " 9   reviews.dateSeen      34660 non-null  object \n",
            " 10  reviews.didPurchase   1 non-null      object \n",
            " 11  reviews.doRecommend   34066 non-null  object \n",
            " 12  reviews.id            1 non-null      float64\n",
            " 13  reviews.numHelpful    34131 non-null  float64\n",
            " 14  reviews.rating        34627 non-null  float64\n",
            " 15  reviews.sourceURLs    34660 non-null  object \n",
            " 16  reviews.text          34659 non-null  object \n",
            " 17  reviews.title         34654 non-null  object \n",
            " 18  reviews.userCity      0 non-null      float64\n",
            " 19  reviews.userProvince  0 non-null      float64\n",
            " 20  reviews.username      34653 non-null  object \n",
            "dtypes: float64(5), object(16)\n",
            "memory usage: 5.6+ MB\n"
          ]
        }
      ],
      "source": [
        "# Display information about the dataset and the 'reviews.text' column\n",
        "dataframe.info()"
      ]
    },
    {
      "cell_type": "markdown",
      "id": "a03b3e5e-cb04-4d83-b66a-8e2193fc5d65",
      "metadata": {
        "id": "a03b3e5e-cb04-4d83-b66a-8e2193fc5d65"
      },
      "source": [
        "We will work on our target variable, the 17th column '16  reviews.text  34659 non-null  object'."
      ]
    },
    {
      "cell_type": "code",
      "execution_count": null,
      "id": "12763f11-bcbc-442e-8cde-5bbd09a37e57",
      "metadata": {
        "id": "12763f11-bcbc-442e-8cde-5bbd09a37e57",
        "outputId": "38580a37-fe71-4a15-df72-e04e7f17eeb2"
      },
      "outputs": [
        {
          "name": "stdout",
          "output_type": "stream",
          "text": [
            "0    This product so far has not disappointed. My c...\n",
            "1    great for beginner or experienced person. Boug...\n",
            "2    Inexpensive tablet for him to use and learn on...\n",
            "3    I've had my Fire HD 8 two weeks now and I love...\n",
            "4    I bought this for my grand daughter when she c...\n",
            "Name: reviews.text, dtype: object\n",
            "(34660,)\n"
          ]
        }
      ],
      "source": [
        "reviews_data = dataframe['reviews.text']\n",
        "print(reviews_data.head())\n",
        "print(reviews_data.shape)"
      ]
    },
    {
      "cell_type": "code",
      "execution_count": null,
      "id": "a4629f60-e5cc-4c1d-8139-1d71e59d1a86",
      "metadata": {
        "id": "a4629f60-e5cc-4c1d-8139-1d71e59d1a86",
        "outputId": "6d3a8802-ed74-4806-9c6b-561d40bffd20"
      },
      "outputs": [
        {
          "data": {
            "text/plain": [
              "1"
            ]
          },
          "execution_count": 79,
          "metadata": {},
          "output_type": "execute_result"
        }
      ],
      "source": [
        "# Explore the data.\n",
        "reviews_data.isnull().sum()"
      ]
    },
    {
      "cell_type": "code",
      "execution_count": null,
      "id": "858ccc24-a284-4e77-8c94-a6b2f7455e9f",
      "metadata": {
        "id": "858ccc24-a284-4e77-8c94-a6b2f7455e9f",
        "outputId": "f4029f86-5b38-4e25-ba08-e478e0009235"
      },
      "outputs": [
        {
          "name": "stdout",
          "output_type": "stream",
          "text": [
            "(34659,)\n"
          ]
        }
      ],
      "source": [
        "# Drop rows where reviews are missing and print the new total\n",
        "# we can see here onley one review is missing.\n",
        "clean_data = dataframe.dropna(subset=['reviews.text'])\n",
        "reviews_data = clean_data['reviews.text']\n",
        "print(reviews_data.shape)"
      ]
    },
    {
      "cell_type": "markdown",
      "id": "c5b813a0-a32f-4f3b-8421-15ad5fe48933",
      "metadata": {
        "id": "c5b813a0-a32f-4f3b-8421-15ad5fe48933"
      },
      "source": [
        "#### To implement more visualization I will add 4 extra cells for testing.\n",
        "To make a sample test before I start my code, I will use one review text from the dataset, review.text[0]."
      ]
    },
    {
      "cell_type": "code",
      "execution_count": null,
      "id": "8d4c3302-6f7f-4fae-a5a1-c10c915894da",
      "metadata": {
        "id": "8d4c3302-6f7f-4fae-a5a1-c10c915894da",
        "outputId": "e17da5c8-a1b7-450e-9fb9-3c220500f678"
      },
      "outputs": [
        {
          "data": {
            "text/plain": [
              "0.325"
            ]
          },
          "execution_count": 89,
          "metadata": {},
          "output_type": "execute_result"
        }
      ],
      "source": [
        "mytext = reviews_data[0]\n",
        "docs = sm_nlp(mytext)\n",
        "# check sentiment polarity.\n",
        "docs._.polarity"
      ]
    },
    {
      "cell_type": "code",
      "execution_count": null,
      "id": "108eca7b-c32f-4cb3-9026-7edf4f903f1d",
      "metadata": {
        "id": "108eca7b-c32f-4cb3-9026-7edf4f903f1d",
        "outputId": "68389d98-ee86-4f59-b55a-1f90ddbd093b"
      },
      "outputs": [
        {
          "data": {
            "text/plain": [
              "0.7833333333333333"
            ]
          },
          "execution_count": 90,
          "metadata": {},
          "output_type": "execute_result"
        }
      ],
      "source": [
        "docs._.subjectivity"
      ]
    },
    {
      "cell_type": "code",
      "execution_count": null,
      "id": "09a18673-ecdf-44fc-8a11-2e55822e4538",
      "metadata": {
        "id": "09a18673-ecdf-44fc-8a11-2e55822e4538",
        "outputId": "2a577ccd-27c2-4cef-9144-932a2a2580d2"
      },
      "outputs": [
        {
          "data": {
            "text/plain": [
              "[(['far'], 0.1, 1.0, None),\n",
              " (['not', 'disappointed'], 0.375, 0.75, None),\n",
              " (['love'], 0.5, 0.6, None)]"
            ]
          },
          "execution_count": 91,
          "metadata": {},
          "output_type": "execute_result"
        }
      ],
      "source": [
        "docs._.assessments"
      ]
    },
    {
      "cell_type": "code",
      "execution_count": null,
      "id": "e844b8fb-3b2b-4098-9a2c-03c44c6b57f1",
      "metadata": {
        "id": "e844b8fb-3b2b-4098-9a2c-03c44c6b57f1",
        "outputId": "42021a2d-6a02-4b52-83c7-ccd49ea6789d"
      },
      "outputs": [
        {
          "name": "stdout",
          "output_type": "stream",
          "text": [
            "This DET DT\n",
            "product NOUN NN\n",
            "so ADV RB\n",
            "far ADV RB\n",
            "has AUX VBZ\n",
            "not PART RB\n",
            "disappointed VERB VBN\n",
            ". PUNCT .\n",
            "My PRON PRP$\n",
            "children NOUN NNS\n",
            "love VERB VBP\n",
            "to PART TO\n",
            "use VERB VB\n",
            "it PRON PRP\n",
            "and CCONJ CC\n",
            "I PRON PRP\n",
            "like VERB VBP\n",
            "the DET DT\n",
            "ability NOUN NN\n",
            "to PART TO\n",
            "monitor VERB VB\n",
            "control NOUN NN\n",
            "what PRON WP\n",
            "content NOUN NN\n",
            "they PRON PRP\n",
            "see VERB VBP\n",
            "with ADP IN\n",
            "ease NOUN NN\n",
            ". PUNCT .\n"
          ]
        }
      ],
      "source": [
        "for token in docs:\n",
        "    print(token.text,token.pos_,token.tag_)"
      ]
    },
    {
      "cell_type": "markdown",
      "id": "6e1787a0-541e-42ff-8290-f6a90b73fed8",
      "metadata": {
        "id": "6e1787a0-541e-42ff-8290-f6a90b73fed8"
      },
      "source": [
        "### Resoning:\n",
        "- The above code was implemented to display the POS and TAG of each word in one review for better understand of the polarity and sentiment results.\n",
        "- As we can see from the assessment function's results (['not', 'disappointed'], 0.375, 0.75, None), the words 'not' and 'disappointed' togather results in low positive feeling and positive subjectivity, which show **semantic ambiguity**.\n",
        "- After applying the pipeline, this change the total polarity results from negative -0.05 to low positive 0.375.\n",
        "- The results from the folowing sentence in the same review was (['love'], 0.5, 0.6, None) which shows positive polarity and positive subjectivity."
      ]
    },
    {
      "cell_type": "markdown",
      "id": "a68c302f-653c-4161-ab22-cf05eac3ccc3",
      "metadata": {
        "id": "a68c302f-653c-4161-ab22-cf05eac3ccc3"
      },
      "source": [
        "Now! we are going to create functions to reduce the code which will be repeated twice each time we compare 2 product reviews."
      ]
    },
    {
      "cell_type": "markdown",
      "id": "84d4fba1-3ecb-4e36-97da-606dcb0ad094",
      "metadata": {
        "id": "84d4fba1-3ecb-4e36-97da-606dcb0ad094"
      },
      "source": [
        "Preprosessing: We still need to remove stop words and punctuations."
      ]
    },
    {
      "cell_type": "code",
      "execution_count": null,
      "id": "94241382-78f2-4a2d-83ca-ec17c01f450e",
      "metadata": {
        "id": "94241382-78f2-4a2d-83ca-ec17c01f450e"
      },
      "outputs": [],
      "source": [
        "# This function inputs the review as a text to tokanize it and remove stop words, punctuations and change the uppercase to lowercase.\n",
        "def prep_text(text):\n",
        "    token_text = sm_nlp(text)\n",
        "    cleaned_stopwords = [str(token.text).lower().strip() for token in token_text if not token.is_stop]\n",
        "    return ' '.join(cleaned_stopwords)\n",
        "    # Join back the selected text and Returns it ready."
      ]
    },
    {
      "cell_type": "markdown",
      "id": "c123d516-28e6-443a-86cc-966129b8653e",
      "metadata": {
        "id": "c123d516-28e6-443a-86cc-966129b8653e"
      },
      "source": [
        "Join back the selected text after spliting it to clean then Returns it clean."
      ]
    },
    {
      "cell_type": "code",
      "execution_count": null,
      "id": "bdd783b6-13b2-480b-924e-9b096459d8c8",
      "metadata": {
        "id": "bdd783b6-13b2-480b-924e-9b096459d8c8"
      },
      "outputs": [],
      "source": [
        "# This function to Perform polarity and sentiment analysis.\n",
        "# Inputs the claned product review\n",
        "def Sentiment_A(product_review):\n",
        "    doc = sm_nlp(product_review) #\n",
        "    polarity = doc._.blob.polarity\n",
        "    sentiment = doc._.blob.sentiment\n",
        "    return polarity, sentiment\n",
        "# Returns polarity and subjectivity."
      ]
    },
    {
      "cell_type": "markdown",
      "id": "b05c5930-4d8a-4f1c-9e52-5aefb256f32f",
      "metadata": {
        "id": "b05c5930-4d8a-4f1c-9e52-5aefb256f32f"
      },
      "source": [
        "Returns polarity and subjectivity"
      ]
    },
    {
      "cell_type": "code",
      "execution_count": null,
      "id": "8c97ef0d-bbc9-4276-b4fe-988c693cf1e6",
      "metadata": {
        "id": "8c97ef0d-bbc9-4276-b4fe-988c693cf1e6"
      },
      "outputs": [],
      "source": [
        "# This is function to perform similarity comparison.\n",
        "# Inputs 2 reviews to be compared by implemnting the md model 'medium-sized English model trained'\n",
        "def compare(review1, review2):\n",
        "    doc1 = md_nlp(review1)\n",
        "    doc2 = md_nlp(review2)\n",
        "    similarity_S = doc1.similarity(doc2)\n",
        "    return similarity_S\n",
        "    # returns the similarity score."
      ]
    },
    {
      "cell_type": "markdown",
      "id": "5a74f0ee-55f3-42f1-b415-c9d891b26247",
      "metadata": {
        "id": "5a74f0ee-55f3-42f1-b415-c9d891b26247"
      },
      "source": [
        "Returns the similarity score"
      ]
    },
    {
      "cell_type": "code",
      "execution_count": null,
      "id": "fe3e7a57-bb5b-4a7a-99f4-1f9720da07ba",
      "metadata": {
        "id": "fe3e7a57-bb5b-4a7a-99f4-1f9720da07ba",
        "outputId": "b52d93e6-dd8c-4ea9-e7a5-d137881b0bcb"
      },
      "outputs": [
        {
          "name": "stdout",
          "output_type": "stream",
          "text": [
            "Review 1: This product so far has not disappointed. My children love to use it and I like the ability to monitor control what content they see with ease.\n",
            "Review 2: great for beginner or experienced person. Bought as a gift and she loves it\n",
            "\n",
            "Similarity Score of Two Reviews: 0.8094779286807917\n",
            "\n"
          ]
        }
      ],
      "source": [
        "# Comparing the similarity of 2 reviews.\n",
        "review1 = dataframe['reviews.text'][0]\n",
        "review2 = dataframe['reviews.text'][1]\n",
        "similarity_value = compare(review1, review2)\n",
        "print(f\"Review 1: {review1}\")\n",
        "print(f\"Review 2: {review2}\")\n",
        "print(f\"\\nSimilarity Score of Two Reviews: {similarity_value}\\n\")"
      ]
    },
    {
      "cell_type": "markdown",
      "id": "9d693f50-4a72-4699-ab07-41f9e91e5b26",
      "metadata": {
        "id": "9d693f50-4a72-4699-ab07-41f9e91e5b26"
      },
      "source": [
        "We can say the 2 reviews has strong positive similarity score becase 0.8 closer to 1."
      ]
    },
    {
      "cell_type": "code",
      "execution_count": null,
      "id": "2c2d57e9-0006-4b17-afef-4ce921f7efdf",
      "metadata": {
        "id": "2c2d57e9-0006-4b17-afef-4ce921f7efdf",
        "outputId": "70b4ae7f-c5c5-4e8d-bbf8-fc8bb92aefdd"
      },
      "outputs": [
        {
          "name": "stdout",
          "output_type": "stream",
          "text": [
            "We have neutral feelings\n",
            "Review: Amazon should include this charger with the Kindle. The fact that they're charging us extra for something that should be included is a sign of cheapness. Plus, you can use any micro-USB phone charger instead of this to charge your Kindle. Save your money.\n",
            "Sample Review Sentiment: (0.0, Sentiment(polarity=0.0, subjectivity=0.1))\n",
            "Polarity: 0.0, Sentiment: Sentiment(polarity=0.0, subjectivity=0.1)\n",
            "\n",
            "\n",
            "We have negative feelings\n",
            "Review: I was surprised to find it did not come with any type of charging cords so I had to purchase one and then found my Sprint HTC 3D charger is faster. I would not purchase again- 1st item I've ever not liked I've purchased from Amazon\n",
            "Sample Review Sentiment: (0.35, Sentiment(polarity=0.35, subjectivity=0.8500000000000001))\n",
            "Polarity: -0.09999999999999999, Sentiment: Sentiment(polarity=-0.09999999999999999, subjectivity=0.8500000000000001)\n",
            "\n",
            "\n"
          ]
        }
      ],
      "source": [
        "# Testing sentiment analysis on a sample of product reviews\n",
        "sample_reviews = [dataframe['reviews.text'][34656], dataframe['reviews.text'][34658]]\n",
        "for review in sample_reviews: # for 2 reviews apply:\n",
        "    polar, senti = Sentiment_A(review)\n",
        "    review_cleaned = prep_text(review) # Calling the function prep_text to clean.\n",
        "    sentiment_result = Sentiment_A(review_cleaned) # Calling the function Sentiment_A again with clean text.\n",
        "    if polar == 0:\n",
        "        print('We have neutral feelings')\n",
        "        print(f\"Review: {review}\")\n",
        "        print(f\"Sample Review Sentiment: {sentiment_result}\")\n",
        "        print(f\"Polarity: {polar}, Sentiment: {senti}\")\n",
        "        print(\"\\n\")\n",
        "    elif polar > 0.0:\n",
        "        print('We have positive feelings')\n",
        "        print(f\"Review: {review}\")\n",
        "        print(f\"Sample Review Sentiment: {sentiment_result}\")\n",
        "        print(f\"Polarity: {polar}, Sentiment: {senti}\")\n",
        "        print(\"\\n\")\n",
        "    else:\n",
        "        print('We have negative feelings')\n",
        "        print(f\"Review: {review}\")\n",
        "        print(f\"Sample Review Sentiment: {sentiment_result}\")\n",
        "        print(f\"Polarity: {polar}, Sentiment: {senti}\")\n",
        "        print(\"\\n\")\n",
        "\n"
      ]
    },
    {
      "cell_type": "markdown",
      "id": "308cc023-ebb6-4771-9a5a-88a41d60b3b9",
      "metadata": {
        "id": "308cc023-ebb6-4771-9a5a-88a41d60b3b9"
      },
      "source": [
        "#### Here is the results of polarity and subjectivity before and after cleaning.\n",
        "The model interpert sucsessfully many reviews in the dataset, such as review.text[34656] and review.text[34658] has a neutral an negative feelings."
      ]
    },
    {
      "cell_type": "code",
      "execution_count": null,
      "id": "855581ba-d745-4c9b-8a54-036302100f6f",
      "metadata": {
        "id": "855581ba-d745-4c9b-8a54-036302100f6f"
      },
      "outputs": [],
      "source": [
        "import warnings\n",
        "warnings.filterwarnings('ignore')"
      ]
    },
    {
      "cell_type": "code",
      "execution_count": null,
      "id": "efce9423-10f5-44c6-9e98-507313c12b17",
      "metadata": {
        "id": "efce9423-10f5-44c6-9e98-507313c12b17",
        "outputId": "6014883a-6268-4249-c9e5-eccf511b95d0"
      },
      "outputs": [
        {
          "name": "stdout",
          "output_type": "stream",
          "text": [
            "                                         reviews_cleaned  \\\n",
            "34656  amazon include charger kindle . fact charging ...   \n",
            "34657  love kindle fire disappointed kindle power fas...   \n",
            "34658  surprised find come type charging cords purcha...   \n",
            "34659  spite fact good things amazon anthing gotten ....   \n",
            "\n",
            "                                               sentiment  \n",
            "34656                                  (0.0, (0.0, 0.1))  \n",
            "34657  (0.10952380952380951, (0.10952380952380951, 0....  \n",
            "34658                 (0.35, (0.35, 0.8500000000000001))  \n",
            "34659  (0.47714285714285715, (0.47714285714285715, 0....  \n"
          ]
        }
      ],
      "source": [
        "# Apply text preprocessing and sentiment analysis to a subset of clean_data\n",
        "clean_data.loc[:, 'reviews_cleaned'] = clean_data['reviews.text'].tail(4).apply(prep_text) # call function to clean all\n",
        "clean_data.loc[:, 'sentiment'] = clean_data['reviews_cleaned'].tail(4).apply(Sentiment_A)\n",
        "\n",
        "\n",
        "print(clean_data[['reviews_cleaned', 'sentiment']].tail(4))\n"
      ]
    },
    {
      "cell_type": "code",
      "execution_count": null,
      "id": "9904042d-71da-49fe-8757-330c932e1a43",
      "metadata": {
        "id": "9904042d-71da-49fe-8757-330c932e1a43"
      },
      "outputs": [],
      "source": []
    }
  ],
  "metadata": {
    "kernelspec": {
      "display_name": "Python 3 (ipykernel)",
      "language": "python",
      "name": "python3"
    },
    "language_info": {
      "codemirror_mode": {
        "name": "ipython",
        "version": 3
      },
      "file_extension": ".py",
      "mimetype": "text/x-python",
      "name": "python",
      "nbconvert_exporter": "python",
      "pygments_lexer": "ipython3",
      "version": "3.12.2"
    },
    "colab": {
      "provenance": [],
      "include_colab_link": true
    }
  },
  "nbformat": 4,
  "nbformat_minor": 5
}